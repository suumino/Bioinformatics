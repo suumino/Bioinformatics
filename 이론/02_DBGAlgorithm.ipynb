{
  "nbformat": 4,
  "nbformat_minor": 0,
  "metadata": {
    "colab": {
      "name": "Untitled11.ipynb",
      "provenance": [],
      "authorship_tag": "ABX9TyOPTSGhTj0VIJK6hZDl9pGJ",
      "include_colab_link": true
    },
    "kernelspec": {
      "name": "python3",
      "display_name": "Python 3"
    },
    "language_info": {
      "name": "python"
    }
  },
  "cells": [
    {
      "cell_type": "markdown",
      "metadata": {
        "id": "view-in-github",
        "colab_type": "text"
      },
      "source": [
        "<a href=\"https://colab.research.google.com/github/suumino/Bioinformatics/blob/main/%EC%9D%B4%EB%A1%A0/02_DBGAlgorithm.ipynb\" target=\"_parent\"><img src=\"https://colab.research.google.com/assets/colab-badge.svg\" alt=\"Open In Colab\"/></a>"
      ]
    },
    {
      "cell_type": "markdown",
      "source": [
        "#**De brujin graph**\n",
        "\n",
        "Genome assembly -> graph -> k-mer로 쪼갬 -> Hamiltion\n",
        "\n",
        "Eulerian cycle -> De brujin graph(k-1-mer를 mode로 하는 graph)생성"
      ],
      "metadata": {
        "id": "3MKQVZMD5437"
      }
    },
    {
      "cell_type": "markdown",
      "source": [
        "#**왜 graph를 genome assenbly에 사용하는가**\n",
        "\n",
        "Graph walk를 하는것을 시각화하는것은 graph로부터 통찰력을 끌어내는 데 이용하는 여러 종류의 Algorithm을 이해하는 데 도움을 준다\n",
        "\n",
        "특히, Genome assenbly의 경우 Graph를 이용해 **Overlap되는 read를 추적함으로써 후보 assembly**를 찾을 수 있다\n"
      ],
      "metadata": {
        "id": "xcFS2_aW5457"
      }
    },
    {
      "cell_type": "markdown",
      "source": [
        "#**Hamiltonian cycle(기존의 K-mer를 이용한 assembly)**\n",
        "1. 일련의 reads로부터 k-mer마다 node 생성\n",
        "2. k-mer가 주어지면 맨 첫번째 k-mer를 제외한 나머지 nt에서 prefix을 정의하고, 맨 마지막 k-mer를 제외한 나머지 nt에서 suffi을 정의한다. 그리고 전 k-mer의 suffix와 후 k-mer prefix가 일치하면 diredted edge를 이용해 하나의 k-mer를 다른 k-mer와 연결한다. (각 양쪽의 하나의 n.t를 제외하고 두 k-mer가 완전히 겹치는 경우)\n",
        "3. candidate genome을 나타내는 Hamiltonian cycle을 찾는다. (Hamiltonian은 detected된 각 k-mer를 한번씩만 방문하기 때문에 path가 최소길이를 갖는다)\n",
        "\n",
        "**이 방법은 쉽지않음**\n",
        "\n",
        "* 수많은 노드를 갖는 large graph에서 Hamiltonian cycle을 찾는 효율적인 알고리즘이 없다\n",
        "* Hamiltonian cycle은 Sanger sequencing, microbial genome sequencing, human genome sequencing에 적합했지만 NGS는 계산적인 부담이 너무 커서 사용할 수 없다\n",
        "* genome sequencing이 부딪힌 최근 computer science의 한계가 존재한다\n",
        "* Hamiltonian cycle을 찾는 computational problems 는 NP-complete라 불리는 문제임\n",
        "\n",
        "**Eulerian cycle**\n",
        "* 그래프의 모든 노드를 한번만 방문하는 Hamiltonian cycle은 어렵\n",
        "* 그래프의 모든 모서리를 정확히 한 번 방문하는 주기를 찾는것이 쉽다. 따라서 각 k-mer를 노드에 할당하는 대신 read내에 있는 k-mer를 edge에 할당했다(k-mer 대신 k-1-mer를 node로 사용하는 이유)\n",
        "* De bruijn graph 생성 가능\n",
        "\n",
        "1. 일련의 reads로부터 k-mer를 만들고, 각 k-1-mer마다 node를 생성한다(k-mer를 edge에 할당)\n",
        "2. k-mer의 prefix와 suffix를 edge를 이용해 연결\n",
        "\n",
        "\n",
        "\n"
      ],
      "metadata": {
        "id": "JAf89l_N548Z"
      }
    },
    {
      "cell_type": "markdown",
      "source": [
        "#**Practical stategies for applying de bruijn graph**\n",
        "\n",
        "* de bruijn graph를 experimental data에 적용하는 것은 간단하지 않다\n",
        "* sequencing 과정에서 발생하는 error나 quirks에 의한 practical challenge 해결\n",
        "* repeat rich genome에 의해 만들어지는 complexities 해결\n",
        "\n",
        "**fragment assembly를 위한 de bruijn method 는 4가지의 hidden assumption에 의존**\n",
        "\n",
        "1. 우리가 genome에 존재하는 모든 k-mer를 만들 수 있음(작은 k-mer의 단위)\n",
        "2. 모든 k-mer가 error-free(error correcting 기술)\n",
        "3. 각 k-mer가 genome에서 최대 한번만 나타남(k-mer multiplicity)\n",
        "4. single circular chromosome을 구성하는 genome(linear에 맞게 graph 사용)\n",
        "\n"
      ],
      "metadata": {
        "id": "YCTMqdvu54-y"
      }
    },
    {
      "cell_type": "markdown",
      "source": [
        ""
      ],
      "metadata": {
        "id": "3e4cHfYiBFo1"
      }
    },
    {
      "cell_type": "markdown",
      "source": [
        ""
      ],
      "metadata": {
        "id": "0XKhXJmrBF7P"
      }
    },
    {
      "cell_type": "markdown",
      "source": [
        ""
      ],
      "metadata": {
        "id": "yuXDnqhQBGRS"
      }
    },
    {
      "cell_type": "markdown",
      "source": [
        ""
      ],
      "metadata": {
        "id": "1BtWHpcfBGTj"
      }
    },
    {
      "cell_type": "markdown",
      "source": [
        ""
      ],
      "metadata": {
        "id": "n4wK03foBGV1"
      }
    },
    {
      "cell_type": "markdown",
      "source": [
        ""
      ],
      "metadata": {
        "id": "DZaKRbQoBGYD"
      }
    }
  ]
}